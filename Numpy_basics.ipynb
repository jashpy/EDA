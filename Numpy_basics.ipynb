{
  "nbformat": 4,
  "nbformat_minor": 0,
  "metadata": {
    "colab": {
      "provenance": []
    },
    "kernelspec": {
      "name": "python3",
      "display_name": "Python 3"
    },
    "language_info": {
      "name": "python"
    }
  },
  "cells": [
    {
      "cell_type": "markdown",
      "source": [
        "**NUMPY**"
      ],
      "metadata": {
        "id": "Zu2LpBtezoF5"
      }
    },
    {
      "cell_type": "markdown",
      "source": [
        "**problem-1**"
      ],
      "metadata": {
        "id": "Tfl60nb7zqfY"
      }
    },
    {
      "cell_type": "code",
      "source": [
        "import numpy as np\n",
        "list_ = ['1','2','3','4','5' ]\n",
        "array_list = np.array(object = list_)"
      ],
      "metadata": {
        "id": "TNMfpYW5zs5C"
      },
      "execution_count": 2,
      "outputs": []
    },
    {
      "cell_type": "markdown",
      "source": [
        "**Q1. Is there any difference in the data type of variables list_ and array_list? If there is then write a code\n",
        "to print the data types of both the variables.**"
      ],
      "metadata": {
        "id": "2CjssUMTz_1p"
      }
    },
    {
      "cell_type": "markdown",
      "source": [
        "**yes because list_ is of list type and array_list of type array that we convert from a list with the help of numpy**"
      ],
      "metadata": {
        "id": "v5oavPZI0DVu"
      }
    },
    {
      "cell_type": "code",
      "source": [
        "print(type(list_ ))\n",
        "print(type(array_list ))"
      ],
      "metadata": {
        "colab": {
          "base_uri": "https://localhost:8080/"
        },
        "id": "OH6FRIFG0PPt",
        "outputId": "b8fbc666-0b78-4def-9517-d2bbf542f9c4"
      },
      "execution_count": 3,
      "outputs": [
        {
          "output_type": "stream",
          "name": "stdout",
          "text": [
            "<class 'list'>\n",
            "<class 'numpy.ndarray'>\n"
          ]
        }
      ]
    },
    {
      "cell_type": "markdown",
      "source": [
        "**problem-2**"
      ],
      "metadata": {
        "id": "BSWfSxua0dAV"
      }
    },
    {
      "cell_type": "markdown",
      "source": [
        "**Q2. Write a code to print the data type of each and every element of both the variables list_ and\n",
        "arra_list.**"
      ],
      "metadata": {
        "id": "QhwPCSLF0h01"
      }
    },
    {
      "cell_type": "code",
      "source": [
        "list_ = ['1','2','3','4','5' ]\n",
        "for i in list_:\n",
        "  print(type(i))"
      ],
      "metadata": {
        "colab": {
          "base_uri": "https://localhost:8080/"
        },
        "id": "_smtnJd30k0l",
        "outputId": "fad3552b-720d-4ae4-cceb-9a63e92a67b4"
      },
      "execution_count": 4,
      "outputs": [
        {
          "output_type": "stream",
          "name": "stdout",
          "text": [
            "<class 'str'>\n",
            "<class 'str'>\n",
            "<class 'str'>\n",
            "<class 'str'>\n",
            "<class 'str'>\n"
          ]
        }
      ]
    },
    {
      "cell_type": "code",
      "source": [
        "array_list = np.array(object = list_)\n",
        "for i in array_list:\n",
        "  print(type(i))"
      ],
      "metadata": {
        "colab": {
          "base_uri": "https://localhost:8080/"
        },
        "id": "T-HkOspy0zvg",
        "outputId": "08c09345-e9a8-4fa0-f8fc-e74039dd8e5a"
      },
      "execution_count": 5,
      "outputs": [
        {
          "output_type": "stream",
          "name": "stdout",
          "text": [
            "<class 'numpy.str_'>\n",
            "<class 'numpy.str_'>\n",
            "<class 'numpy.str_'>\n",
            "<class 'numpy.str_'>\n",
            "<class 'numpy.str_'>\n"
          ]
        }
      ]
    },
    {
      "cell_type": "markdown",
      "source": [
        "**Q3. Considering the following changes in the variable, array_list:\n",
        "array_list = np.array(object = list_, dtype = int)\n",
        "Will there be any difference in the data type of the elements present in both the variables, list_ and\n",
        "arra_list? If so then print the data types of each and every element present in both the variables, list_\n",
        "and arra_list.**"
      ],
      "metadata": {
        "id": "ntxsMdcc1B1N"
      }
    },
    {
      "cell_type": "code",
      "source": [
        "list_ = ['1','2','3','4','5' ]\n",
        "array_list = np.array(object = list_, dtype = int)\n",
        "for i in list_:\n",
        "  print(type(i))\n",
        "\n",
        "for j in array_list:\n",
        "  print(type(j))"
      ],
      "metadata": {
        "colab": {
          "base_uri": "https://localhost:8080/"
        },
        "id": "E3JKxxB41Dqj",
        "outputId": "708027dd-09d7-4b08-d04d-8d3ce535a9f8"
      },
      "execution_count": 7,
      "outputs": [
        {
          "output_type": "stream",
          "name": "stdout",
          "text": [
            "<class 'str'>\n",
            "<class 'str'>\n",
            "<class 'str'>\n",
            "<class 'str'>\n",
            "<class 'str'>\n",
            "<class 'numpy.int64'>\n",
            "<class 'numpy.int64'>\n",
            "<class 'numpy.int64'>\n",
            "<class 'numpy.int64'>\n",
            "<class 'numpy.int64'>\n"
          ]
        }
      ]
    },
    {
      "cell_type": "markdown",
      "source": [
        "**Consider the below code to answer further questions:\n",
        "import numpy as np\n",
        "num_list = [ [ 1 , 2 , 3 ] , [ 4 , 5 , 6 ] ]\n",
        "num_array = np.array(object = num_list)\n",
        "Q4. Write a code to find the following characteristics of variable, num_array:\n",
        "(i) shape\n",
        "(ii) size**"
      ],
      "metadata": {
        "id": "SX3D2UpD1iXn"
      }
    },
    {
      "cell_type": "code",
      "source": [
        "import numpy as np\n",
        "num_list = [ [ 1 , 2 , 3 ] , [ 4 , 5 , 6 ] ]\n",
        "num_array = np.array(object = num_list)"
      ],
      "metadata": {
        "id": "hLk39ULa1kOL"
      },
      "execution_count": 8,
      "outputs": []
    },
    {
      "cell_type": "code",
      "source": [
        "#(i) shape\n",
        "\n",
        "num_array.shape"
      ],
      "metadata": {
        "colab": {
          "base_uri": "https://localhost:8080/"
        },
        "id": "Qc-jsBcv1mf-",
        "outputId": "6e88a795-b9ae-44db-fcab-0a14fbc07dbb"
      },
      "execution_count": 10,
      "outputs": [
        {
          "output_type": "execute_result",
          "data": {
            "text/plain": [
              "(2, 3)"
            ]
          },
          "metadata": {},
          "execution_count": 10
        }
      ]
    },
    {
      "cell_type": "code",
      "source": [
        "#(ii) size\n",
        "num_array.size"
      ],
      "metadata": {
        "colab": {
          "base_uri": "https://localhost:8080/"
        },
        "id": "8ho5qCOI1s7A",
        "outputId": "d6ea8805-08e3-4bac-c26d-e4a1546dcf02"
      },
      "execution_count": 11,
      "outputs": [
        {
          "output_type": "execute_result",
          "data": {
            "text/plain": [
              "6"
            ]
          },
          "metadata": {},
          "execution_count": 11
        }
      ]
    },
    {
      "cell_type": "markdown",
      "source": [
        "**Q5. Write a code to create numpy array of 3*3 matrix containing zeros only, using a numpy array\n",
        "creation function.\n",
        "[Hint: The size of the array will be 9 and the shape will be (3,3).]**"
      ],
      "metadata": {
        "id": "9bqpzVuK15Bz"
      }
    },
    {
      "cell_type": "code",
      "source": [
        "import numpy as np\n",
        "\n",
        "b = np.zeros((3,3), dtype = int)\n",
        "print(\"Matrix b : \\n\", b)"
      ],
      "metadata": {
        "colab": {
          "base_uri": "https://localhost:8080/"
        },
        "id": "frCPKpqS16qO",
        "outputId": "bdebd156-43bb-412a-a0a1-06d44b1c5a5e"
      },
      "execution_count": 12,
      "outputs": [
        {
          "output_type": "stream",
          "name": "stdout",
          "text": [
            "Matrix b : \n",
            " [[0 0 0]\n",
            " [0 0 0]\n",
            " [0 0 0]]\n"
          ]
        }
      ]
    },
    {
      "cell_type": "markdown",
      "source": [
        "**Q6. Create an identity matrix of shape (5,5) using numpy functions?\n",
        "[Hint: An identity matrix is a matrix containing 1 diagonally and other elements will be 0.]**"
      ],
      "metadata": {
        "id": "zoyK3QpW2jGb"
      }
    },
    {
      "cell_type": "code",
      "source": [
        "import numpy as np\n",
        "a=np.identity(5, dtype=None, like=None)\n",
        "print(\"Matrix a : \\n\", a)"
      ],
      "metadata": {
        "colab": {
          "base_uri": "https://localhost:8080/"
        },
        "id": "rTn5U2yS2j_k",
        "outputId": "ac95e8e6-b4d9-4b00-d57d-e3d197734e2e"
      },
      "execution_count": 14,
      "outputs": [
        {
          "output_type": "stream",
          "name": "stdout",
          "text": [
            "Matrix a : \n",
            " [[1. 0. 0. 0. 0.]\n",
            " [0. 1. 0. 0. 0.]\n",
            " [0. 0. 1. 0. 0.]\n",
            " [0. 0. 0. 1. 0.]\n",
            " [0. 0. 0. 0. 1.]]\n"
          ]
        }
      ]
    },
    {
      "cell_type": "code",
      "source": [],
      "metadata": {
        "id": "a6BpZb-423GC"
      },
      "execution_count": null,
      "outputs": []
    }
  ]
}